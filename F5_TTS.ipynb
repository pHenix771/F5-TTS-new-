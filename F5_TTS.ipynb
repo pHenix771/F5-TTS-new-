{
  "nbformat": 4,
  "nbformat_minor": 0,
  "metadata": {
    "colab": {
      "provenance": [],
      "gpuType": "T4",
      "authorship_tag": "ABX9TyP9NJINrW+WhIzurnnFKJcO",
      "include_colab_link": true
    },
    "kernelspec": {
      "name": "python3",
      "display_name": "Python 3"
    },
    "language_info": {
      "name": "python"
    },
    "accelerator": "GPU"
  },
  "cells": [
    {
      "cell_type": "markdown",
      "metadata": {
        "id": "view-in-github",
        "colab_type": "text"
      },
      "source": [
        "<a href=\"https://colab.research.google.com/github/pHenix771/F5-TTS-new-/blob/main/F5_TTS.ipynb\" target=\"_parent\"><img src=\"https://colab.research.google.com/assets/colab-badge.svg\" alt=\"Open In Colab\"/></a>"
      ]
    },
    {
      "cell_type": "markdown",
      "source": [
        "**F5 TTS en google colab, hecho solo por mi (pHenix771)**"
      ],
      "metadata": {
        "id": "6kl2IQysQxY4"
      }
    },
    {
      "cell_type": "code",
      "execution_count": null,
      "metadata": {
        "cellView": "form",
        "id": "2FISQ_N8Pud7"
      },
      "outputs": [],
      "source": [
        "# @title **Instala dependencias básicas**\n",
        "# Eliminar conflictos\n",
        "!pip uninstall -y fastai\n",
        "\n",
        "# Instalar dependencias\n",
        "!apt-get update && apt-get install -y ffmpeg\n",
        "!pip install gradio datasets huggingface_hub soundfile librosa\n",
        "\n",
        "# Reinstalar torch compatible con GPU\n",
        "!pip uninstall -y torch torchvision torchaudio\n",
        "!pip install torch torchvision torchaudio --index-url https://download.pytorch.org/whl/cu118"
      ]
    },
    {
      "cell_type": "code",
      "source": [
        "# @title **Clona e instala el repositorio de F5-TTS**\n",
        "!git clone https://github.com/SWivid/F5-TTS.git\n",
        "%cd F5-TTS\n",
        "!pip install -e ."
      ],
      "metadata": {
        "cellView": "form",
        "id": "uC03fWJRP99q"
      },
      "execution_count": null,
      "outputs": []
    },
    {
      "cell_type": "code",
      "source": [
        "# @title **Descarga los modelos preentrenados**\n",
        "!mkdir -p ckpts/F5TTS_Base\n",
        "!wget -O ckpts/F5TTS_Base/model_1250000.safetensors https://huggingface.co/jpgallegoar/F5-Spanish/resolve/main/model_1250000.safetensors?download=true"
      ],
      "metadata": {
        "cellView": "form",
        "id": "7SLTGUtXQO3h"
      },
      "execution_count": null,
      "outputs": []
    },
    {
      "cell_type": "code",
      "source": [
        "# @title **Ejecuta la interfaz de Gradio para inferencia:**\n",
        "!python src/f5_tts/infer/infer_gradio.py"
      ],
      "metadata": {
        "cellView": "form",
        "id": "Q_C5G6ZZQig5"
      },
      "execution_count": null,
      "outputs": []
    },
    {
      "cell_type": "markdown",
      "source": [
        "**IMOPRTANTE:** Antes de ejecutar la intergaz de gradio asegurate de modificar el archivo infer_gradio.py, que se encuentra en la ruta /content/F5-TTS/src/f5_tts/infer/infer_gradio.py"
      ],
      "metadata": {
        "id": "84-xMMiMR1DQ"
      }
    }
  ]
}